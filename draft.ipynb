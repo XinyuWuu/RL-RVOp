{
 "cells": [
  {
   "cell_type": "code",
   "execution_count": 1,
   "metadata": {},
   "outputs": [],
   "source": [
    "import numpy as np"
   ]
  },
  {
   "cell_type": "code",
   "execution_count": 2,
   "metadata": {},
   "outputs": [],
   "source": [
    "theta=np.deg2rad(3.37228665*2)\n",
    "theta=np.deg2rad(3*2)"
   ]
  },
  {
   "cell_type": "code",
   "execution_count": 3,
   "metadata": {},
   "outputs": [],
   "source": [
    "r=0.889711256/100\n",
    "R=0.17-r-0.00005"
   ]
  },
  {
   "cell_type": "code",
   "execution_count": null,
   "metadata": {},
   "outputs": [],
   "source": [
    "for k in range(-30,30,1):\n",
    "    # print(k)\n",
    "    print(f'<geom friction=\"0.3 0.005 0.0001\" type=\"cylinder\" rgba=\"0.8 0.8 0.8 1\" size=\"{r} 0.10\" pos=\"{R*np.cos(theta*k)} {R*np.sin(theta*k)} 0.15\"></geom>')\n"
   ]
  },
  {
   "cell_type": "code",
   "execution_count": 10,
   "metadata": {},
   "outputs": [],
   "source": [
    "half_width = 0.000005\n",
    "half_height = 0.10\n",
    "def polygon(c: np.ndarray = np.array([0, 0]),\n",
    "            x: list = [np.array([np.cos(0), np.sin(0)]),\n",
    "                       np.array([np.cos(np.pi / 3), np.sin(np.pi / 3)]),\n",
    "                       np.array([np.cos(np.pi), np.sin(np.pi)])]):\n",
    "\n",
    "    # text = f'<body pos=\"{c[0]} {c[1]} {half_height}\">\\n'\n",
    "    text=\"\"\n",
    "    # n = np.array([0, 1])\n",
    "    xuint = np.array([1, 0])\n",
    "    for i in range(len(x)):\n",
    "        a = x[i]\n",
    "        b = x[0 if i == len(x) - 1 else i + 1]\n",
    "        length = np.linalg.norm(b - a)\n",
    "        angle = - \\\n",
    "            np.arctan2(np.linalg.det([b - a, xuint]), np.dot(b - a, xuint))\n",
    "        pos = (a + b) / 2 - (a + b) / np.linalg.norm(a + b) * half_width\n",
    "        text += f'\\t<geom friction=\"0.3 0.005 0.0001\" rgba=\"0.8 0.8 0.8 1\" type=\"box\" pos=\"{pos[0]} {pos[1]} {half_height+0.05}\" size=\"{length/2} {half_width} {half_height}\" euler=\"0 0 {np.rad2deg(angle)}\" />\\n'\n",
    "    # text += \"</body>\"\n",
    "    return '\\n' + text + '\\n'"
   ]
  },
  {
   "cell_type": "code",
   "execution_count": null,
   "metadata": {},
   "outputs": [],
   "source": [
    "es = np.arange(60) / 60 * np.pi * 2\n",
    "vs = np.array([[np.cos(e), np.sin(e)]\n",
    "               for e in es]) * 0.17\n",
    "text = polygon(np.zeros((2,)), vs)\n",
    "print(text)\n"
   ]
  },
  {
   "cell_type": "code",
   "execution_count": 7,
   "metadata": {},
   "outputs": [],
   "source": [
    "from numpy import cos,sin,arctan2,array,dot,cross\n",
    "from numpy.linalg import norm"
   ]
  },
  {
   "cell_type": "code",
   "execution_count": 10,
   "metadata": {},
   "outputs": [],
   "source": [
    "vx=-0.88064559\n",
    "vy=0.34149562\n",
    "v=array([vx,vy])\n",
    "phi=2.78353667\n",
    "vtheory=array([cos(phi),sin(phi)])"
   ]
  },
  {
   "cell_type": "code",
   "execution_count": 11,
   "metadata": {},
   "outputs": [
    {
     "data": {
      "text/plain": [
       "0.9999295450762543"
      ]
     },
     "execution_count": 11,
     "metadata": {},
     "output_type": "execute_result"
    }
   ],
   "source": [
    "dot(v/norm(v),vtheory)"
   ]
  },
  {
   "cell_type": "code",
   "execution_count": null,
   "metadata": {},
   "outputs": [],
   "source": []
  }
 ],
 "metadata": {
  "kernelspec": {
   "display_name": "Python 3",
   "language": "python",
   "name": "python3"
  },
  "language_info": {
   "codemirror_mode": {
    "name": "ipython",
    "version": 3
   },
   "file_extension": ".py",
   "mimetype": "text/x-python",
   "name": "python",
   "nbconvert_exporter": "python",
   "pygments_lexer": "ipython3",
   "version": "3.10.9"
  },
  "orig_nbformat": 4,
  "vscode": {
   "interpreter": {
    "hash": "14b5674e7da9ce1a4ff1f81359c9a6f08c4e277402899d4bdcfb6c295d250612"
   }
  }
 },
 "nbformat": 4,
 "nbformat_minor": 2
}
